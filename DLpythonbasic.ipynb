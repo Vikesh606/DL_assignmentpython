{
  "nbformat": 4,
  "nbformat_minor": 0,
  "metadata": {
    "colab": {
      "name": "DLpythonbasic.ipynb",
      "provenance": [],
      "collapsed_sections": []
    },
    "kernelspec": {
      "name": "python3",
      "display_name": "Python 3"
    }
  },
  "cells": [
    {
      "cell_type": "code",
      "metadata": {
        "colab": {
          "base_uri": "https://localhost:8080/"
        },
        "id": "fjTcP3W6Wdqu",
        "outputId": "c482e967-6119-4a5a-e202-98fd44b86509"
      },
      "source": [
        "a=7\r\n",
        "print(a)"
      ],
      "execution_count": null,
      "outputs": [
        {
          "output_type": "stream",
          "text": [
            "7\n"
          ],
          "name": "stdout"
        }
      ]
    },
    {
      "cell_type": "code",
      "metadata": {
        "colab": {
          "base_uri": "https://localhost:8080/"
        },
        "id": "1Sy8AlvXWrze",
        "outputId": "863a0d7c-0829-4c56-e7d1-15b2f8e347e0"
      },
      "source": [
        "type(a)"
      ],
      "execution_count": null,
      "outputs": [
        {
          "output_type": "execute_result",
          "data": {
            "text/plain": [
              "int"
            ]
          },
          "metadata": {
            "tags": []
          },
          "execution_count": 3
        }
      ]
    },
    {
      "cell_type": "code",
      "metadata": {
        "colab": {
          "base_uri": "https://localhost:8080/"
        },
        "id": "BbKyO0BwWyeU",
        "outputId": "5c4e42c7-8176-4704-b107-b12c9ca95de0"
      },
      "source": [
        "b=3.25\r\n",
        "print(b)\r\n",
        "type(b)"
      ],
      "execution_count": null,
      "outputs": [
        {
          "output_type": "stream",
          "text": [
            "3.25\n"
          ],
          "name": "stdout"
        },
        {
          "output_type": "execute_result",
          "data": {
            "text/plain": [
              "float"
            ]
          },
          "metadata": {
            "tags": []
          },
          "execution_count": 5
        }
      ]
    },
    {
      "cell_type": "code",
      "metadata": {
        "colab": {
          "base_uri": "https://localhost:8080/"
        },
        "id": "ebRawix7W_ty",
        "outputId": "107c14b9-3f30-4e69-f413-77a82ba7b3cc"
      },
      "source": [
        "c=5+6j\r\n",
        "print(c)\r\n",
        "type(c)"
      ],
      "execution_count": null,
      "outputs": [
        {
          "output_type": "stream",
          "text": [
            "(5+6j)\n"
          ],
          "name": "stdout"
        },
        {
          "output_type": "execute_result",
          "data": {
            "text/plain": [
              "complex"
            ]
          },
          "metadata": {
            "tags": []
          },
          "execution_count": 7
        }
      ]
    },
    {
      "cell_type": "code",
      "metadata": {
        "colab": {
          "base_uri": "https://localhost:8080/"
        },
        "id": "EAJTOQJpXH4t",
        "outputId": "fbf410e4-5233-45b0-942d-94dd03d52770"
      },
      "source": [
        "x=\"234\"\r\n",
        "print(x)\r\n",
        "type(x)"
      ],
      "execution_count": null,
      "outputs": [
        {
          "output_type": "stream",
          "text": [
            "234\n"
          ],
          "name": "stdout"
        },
        {
          "output_type": "execute_result",
          "data": {
            "text/plain": [
              "str"
            ]
          },
          "metadata": {
            "tags": []
          },
          "execution_count": 11
        }
      ]
    },
    {
      "cell_type": "code",
      "metadata": {
        "id": "JJJo5VkWYP6b"
      },
      "source": [
        "y=\"This is Deep Learning class taught by Vijay Sir\""
      ],
      "execution_count": null,
      "outputs": []
    },
    {
      "cell_type": "code",
      "metadata": {
        "colab": {
          "base_uri": "https://localhost:8080/",
          "height": 35
        },
        "id": "lFqEPC9kYctB",
        "outputId": "6a40d825-fb19-4dbb-b92c-f817f271ebd9"
      },
      "source": [
        "y[0:12]"
      ],
      "execution_count": null,
      "outputs": [
        {
          "output_type": "execute_result",
          "data": {
            "application/vnd.google.colaboratory.intrinsic+json": {
              "type": "string"
            },
            "text/plain": [
              "'This is Deep'"
            ]
          },
          "metadata": {
            "tags": []
          },
          "execution_count": 14
        }
      ]
    },
    {
      "cell_type": "code",
      "metadata": {
        "colab": {
          "base_uri": "https://localhost:8080/",
          "height": 35
        },
        "id": "Vl_mGaatYsnw",
        "outputId": "4a32fc19-fb1a-499f-a938-7333aa191b7f"
      },
      "source": [
        "y[0:-3]"
      ],
      "execution_count": null,
      "outputs": [
        {
          "output_type": "execute_result",
          "data": {
            "application/vnd.google.colaboratory.intrinsic+json": {
              "type": "string"
            },
            "text/plain": [
              "'This is Deep Learning class taught by Vijay '"
            ]
          },
          "metadata": {
            "tags": []
          },
          "execution_count": 16
        }
      ]
    },
    {
      "cell_type": "code",
      "metadata": {
        "colab": {
          "base_uri": "https://localhost:8080/"
        },
        "id": "HXEfV7ERY4ka",
        "outputId": "fabfe5be-b6e4-48b1-c4fc-64b1c55c6b78"
      },
      "source": [
        "z=y.count(\"i\")\r\n",
        "print(z)"
      ],
      "execution_count": null,
      "outputs": [
        {
          "output_type": "stream",
          "text": [
            "5\n"
          ],
          "name": "stdout"
        }
      ]
    },
    {
      "cell_type": "code",
      "metadata": {
        "id": "JmQ4gRHeZOqA"
      },
      "source": [
        "#list\r\n"
      ],
      "execution_count": null,
      "outputs": []
    },
    {
      "cell_type": "code",
      "metadata": {
        "colab": {
          "base_uri": "https://localhost:8080/"
        },
        "id": "PhxshQ9Y8kWb",
        "outputId": "6127e761-368c-42b3-c2a7-121349a61770"
      },
      "source": [
        "L=[3,4,1,8,\"King\"]\r\n",
        "print(L)\r\n",
        "type(L)"
      ],
      "execution_count": null,
      "outputs": [
        {
          "output_type": "stream",
          "text": [
            "[3, 4, 1, 8, 'King']\n"
          ],
          "name": "stdout"
        },
        {
          "output_type": "execute_result",
          "data": {
            "text/plain": [
              "list"
            ]
          },
          "metadata": {
            "tags": []
          },
          "execution_count": 2
        }
      ]
    },
    {
      "cell_type": "code",
      "metadata": {
        "id": "yZri0ZM986pq"
      },
      "source": [
        "l1=[40,3,90,45,8]"
      ],
      "execution_count": null,
      "outputs": []
    },
    {
      "cell_type": "code",
      "metadata": {
        "colab": {
          "base_uri": "https://localhost:8080/"
        },
        "id": "Cr-yTB7G9E8x",
        "outputId": "9787aa42-5a62-4a3d-e3e2-ce85020628b9"
      },
      "source": [
        "l2=[\"a\",\"v\",\"e\",\"f\"]\r\n",
        "l3=l1+l2\r\n",
        "print(l3)"
      ],
      "execution_count": null,
      "outputs": [
        {
          "output_type": "stream",
          "text": [
            "[40, 3, 90, 45, 8, 'a', 'v', 'e', 'f']\n"
          ],
          "name": "stdout"
        }
      ]
    },
    {
      "cell_type": "code",
      "metadata": {
        "colab": {
          "base_uri": "https://localhost:8080/"
        },
        "id": "cN8XFlzD9nGL",
        "outputId": "a868ef1e-d0d5-45ce-95b4-614c3bd05600"
      },
      "source": [
        "l3.append('xyz')\r\n",
        "print(l3)\r\n"
      ],
      "execution_count": null,
      "outputs": [
        {
          "output_type": "stream",
          "text": [
            "[40, 3, 90, 45, 8, 'a', 'v', 'e', 'f', 'xyz', 'xyz', 'xyz', 'xyz']\n"
          ],
          "name": "stdout"
        }
      ]
    },
    {
      "cell_type": "code",
      "metadata": {
        "colab": {
          "base_uri": "https://localhost:8080/"
        },
        "id": "7H3zyM5N_JJQ",
        "outputId": "6b142f26-30f0-450d-b4b7-45eaa5f1d1e6"
      },
      "source": [
        "l3.insert(3,'ram')\r\n",
        "print(l3)"
      ],
      "execution_count": null,
      "outputs": [
        {
          "output_type": "stream",
          "text": [
            "[40, 3, 90, 'ram', 'ram', 'ram', 45, 8, 'a', 'v', 'e', 'f', 'xyz', 'xyz', 'xyz', 'xyz']\n"
          ],
          "name": "stdout"
        }
      ]
    },
    {
      "cell_type": "code",
      "metadata": {
        "colab": {
          "base_uri": "https://localhost:8080/"
        },
        "id": "a0NH2XKp_aha",
        "outputId": "42cbb913-bb09-4e3e-fb16-706eef2b5dc1"
      },
      "source": [
        "l3.count('xyz')"
      ],
      "execution_count": null,
      "outputs": [
        {
          "output_type": "execute_result",
          "data": {
            "text/plain": [
              "4"
            ]
          },
          "metadata": {
            "tags": []
          },
          "execution_count": 17
        }
      ]
    },
    {
      "cell_type": "code",
      "metadata": {
        "colab": {
          "base_uri": "https://localhost:8080/"
        },
        "id": "L4j9UDiBAJtD",
        "outputId": "73a013e6-59e6-41bc-ba9f-5f02ee4946b8"
      },
      "source": [
        "#TUPLE\r\n",
        "t=(3,1,4)\r\n",
        "print(t)\r\n",
        "type(t)"
      ],
      "execution_count": null,
      "outputs": [
        {
          "output_type": "stream",
          "text": [
            "(3, 1, 4)\n"
          ],
          "name": "stdout"
        },
        {
          "output_type": "execute_result",
          "data": {
            "text/plain": [
              "tuple"
            ]
          },
          "metadata": {
            "tags": []
          },
          "execution_count": 19
        }
      ]
    },
    {
      "cell_type": "code",
      "metadata": {
        "colab": {
          "base_uri": "https://localhost:8080/"
        },
        "id": "1Fn0yzfMB-Gc",
        "outputId": "7fcda9f2-df21-4bdf-b91a-10a21c73660e"
      },
      "source": [
        "t[0:2]"
      ],
      "execution_count": null,
      "outputs": [
        {
          "output_type": "execute_result",
          "data": {
            "text/plain": [
              "(3, 1)"
            ]
          },
          "metadata": {
            "tags": []
          },
          "execution_count": 21
        }
      ]
    },
    {
      "cell_type": "code",
      "metadata": {
        "id": "7x8IAJC3CDMd"
      },
      "source": [
        "#Dictionaries"
      ],
      "execution_count": null,
      "outputs": []
    },
    {
      "cell_type": "code",
      "metadata": {
        "colab": {
          "base_uri": "https://localhost:8080/"
        },
        "id": "9FGC5KLpCNd0",
        "outputId": "2d15f3c2-1dd0-426e-89ba-ef266767111c"
      },
      "source": [
        "d={\"1\":\"abc\", \"2\":\"fgjig\", \"3\":\"nfvhr\"}\r\n",
        "print(d)\r\n",
        "type(d)"
      ],
      "execution_count": null,
      "outputs": [
        {
          "output_type": "stream",
          "text": [
            "{'1': 'abc', '2': 'fgjig', '3': 'nfvhr'}\n"
          ],
          "name": "stdout"
        },
        {
          "output_type": "execute_result",
          "data": {
            "text/plain": [
              "dict"
            ]
          },
          "metadata": {
            "tags": []
          },
          "execution_count": 24
        }
      ]
    },
    {
      "cell_type": "code",
      "metadata": {
        "colab": {
          "base_uri": "https://localhost:8080/"
        },
        "id": "KVQ1vb9xCjlK",
        "outputId": "af05a7d3-bd00-4107-a71d-20bc3e64812c"
      },
      "source": [
        "d.keys()"
      ],
      "execution_count": null,
      "outputs": [
        {
          "output_type": "execute_result",
          "data": {
            "text/plain": [
              "dict_keys(['1', '2', '3'])"
            ]
          },
          "metadata": {
            "tags": []
          },
          "execution_count": 26
        }
      ]
    },
    {
      "cell_type": "code",
      "metadata": {
        "colab": {
          "base_uri": "https://localhost:8080/"
        },
        "id": "wY2LngaGCq9F",
        "outputId": "2db6e0c6-b001-49fb-88b6-8fee92557e65"
      },
      "source": [
        "d.values()"
      ],
      "execution_count": null,
      "outputs": [
        {
          "output_type": "execute_result",
          "data": {
            "text/plain": [
              "dict_values(['abc', 'fgjig', 'nfvhr'])"
            ]
          },
          "metadata": {
            "tags": []
          },
          "execution_count": 28
        }
      ]
    },
    {
      "cell_type": "code",
      "metadata": {
        "colab": {
          "base_uri": "https://localhost:8080/"
        },
        "id": "EAhJWHBGC0Dk",
        "outputId": "cfb4cf3a-d7b3-4085-c21c-4413148602c0"
      },
      "source": [
        "d[23]=\"ncjd\"\r\n",
        "d"
      ],
      "execution_count": null,
      "outputs": [
        {
          "output_type": "execute_result",
          "data": {
            "text/plain": [
              "{'1': 'abc', '2': 'fgjig', 2: 'bhfb', 23: 'ncjd', '3': 'nfvhr'}"
            ]
          },
          "metadata": {
            "tags": []
          },
          "execution_count": 35
        }
      ]
    },
    {
      "cell_type": "code",
      "metadata": {
        "id": "3bIeyCxpC6nR"
      },
      "source": [
        "#dataframe"
      ],
      "execution_count": null,
      "outputs": []
    },
    {
      "cell_type": "code",
      "metadata": {
        "colab": {
          "base_uri": "https://localhost:8080/"
        },
        "id": "FN7G1UifFyOu",
        "outputId": "e793e2bc-6a72-46c7-b932-d233911809a5"
      },
      "source": [
        "import pandas as pd\r\n",
        "data_list1=[2,4,6,\"nvfbv\",(3+7j)]\r\n",
        "print('datalist1')\r\n",
        "print(data_list1)"
      ],
      "execution_count": null,
      "outputs": [
        {
          "output_type": "stream",
          "text": [
            "datalist1\n",
            "[2, 4, 6, 'nvfbv', (3+7j)]\n"
          ],
          "name": "stdout"
        }
      ]
    },
    {
      "cell_type": "code",
      "metadata": {
        "id": "SuHptY0SGGlI"
      },
      "source": [
        ""
      ],
      "execution_count": null,
      "outputs": []
    }
  ]
}